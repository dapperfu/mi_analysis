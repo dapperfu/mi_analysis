{
 "cells": [
  {
   "cell_type": "markdown",
   "id": "89326b78",
   "metadata": {},
   "source": [
    "# Process Nov 8, 2022 election data."
   ]
  },
  {
   "cell_type": "code",
   "execution_count": 2,
   "id": "d69bd8a2",
   "metadata": {},
   "outputs": [],
   "source": [
    "import json\n",
    "\n",
    "import pandas as pd\n",
    "\n",
    "with open(\"2022.json\", \"rb\") as fp:\n",
    "    results = json.load(fp)"
   ]
  },
  {
   "cell_type": "markdown",
   "id": "6cdda359",
   "metadata": {},
   "source": [
    "Check the office that each one of the results is for."
   ]
  },
  {
   "cell_type": "code",
   "execution_count": 3,
   "id": "5058f3ff",
   "metadata": {},
   "outputs": [
    {
     "name": "stdout",
     "output_type": "stream",
     "text": [
      "0: Governor\n",
      "1: U.S. House\n",
      "2: U.S. House\n",
      "3: U.S. House\n",
      "4: U.S. House\n",
      "5: U.S. House\n",
      "6: U.S. House\n",
      "7: U.S. House\n",
      "8: U.S. House\n",
      "9: U.S. House\n",
      "10: U.S. House\n",
      "11: U.S. House\n",
      "12: U.S. House\n",
      "13: U.S. House\n",
      "14: Attorney General\n",
      "15: State Senate\n",
      "16: State Senate\n",
      "17: State Senate\n",
      "18: State Senate\n",
      "19: State Senate\n",
      "20: State Senate\n",
      "21: State Senate\n",
      "22: State Senate\n",
      "23: State Senate\n",
      "24: State Senate\n",
      "25: State Senate\n",
      "26: State Senate\n",
      "27: State Senate\n",
      "28: State Senate\n",
      "29: State Senate\n",
      "30: State Senate\n",
      "31: State Senate\n",
      "32: State Senate\n",
      "33: State Senate\n",
      "34: State Senate\n",
      "35: State Senate\n",
      "36: State Senate\n",
      "37: State Senate\n",
      "38: State Senate\n",
      "39: State Senate\n",
      "40: State Senate\n",
      "41: State Senate\n",
      "42: State Senate\n",
      "43: State Senate\n",
      "44: State Senate\n",
      "45: State Senate\n",
      "46: State Senate\n",
      "47: State Senate\n",
      "48: State Senate\n",
      "49: State Senate\n",
      "50: State Senate\n",
      "51: State Senate\n",
      "52: State Senate\n",
      "53: State House\n",
      "54: State House\n",
      "55: State House\n",
      "56: State House\n",
      "57: State House\n",
      "58: State House\n",
      "59: State House\n",
      "60: State House\n",
      "61: State House\n",
      "62: State House\n",
      "63: State House\n",
      "64: State House\n",
      "65: State House\n",
      "66: State House\n",
      "67: State House\n",
      "68: State House\n",
      "69: State House\n",
      "70: State House\n",
      "71: State House\n",
      "72: State House\n",
      "73: State House\n",
      "74: State House\n",
      "75: State House\n",
      "76: State House\n",
      "77: State House\n",
      "78: State House\n",
      "79: State House\n",
      "80: State House\n",
      "81: State House\n",
      "82: State House\n",
      "83: State House\n",
      "84: State House\n",
      "85: State House\n",
      "86: State House\n",
      "87: State House\n",
      "88: State House\n",
      "89: State House\n",
      "90: State House\n",
      "91: State House\n",
      "92: State House\n",
      "93: State House\n",
      "94: State House\n",
      "95: State House\n",
      "96: State House\n",
      "97: State House\n",
      "98: State House\n",
      "99: State House\n",
      "100: State House\n",
      "101: State House\n",
      "102: State House\n",
      "103: State House\n",
      "104: State House\n",
      "105: State House\n",
      "106: State House\n",
      "107: State House\n",
      "108: State House\n",
      "109: State House\n",
      "110: State House\n",
      "111: State House\n",
      "112: State House\n",
      "113: State House\n",
      "114: State House\n",
      "115: State House\n",
      "116: State House\n",
      "117: State House\n",
      "118: State House\n",
      "119: State House\n",
      "120: State House\n",
      "121: State House\n",
      "122: State House\n",
      "123: State House\n",
      "124: State House\n",
      "125: State House\n",
      "126: State House\n",
      "127: State House\n",
      "128: State House\n",
      "129: State House\n",
      "130: State House\n",
      "131: State House\n",
      "132: State House\n",
      "133: State House\n",
      "134: State House\n",
      "135: State House\n",
      "136: State House\n",
      "137: State House\n",
      "138: State House\n",
      "139: State House\n",
      "140: State House\n",
      "141: State House\n",
      "142: State House\n",
      "143: State House\n",
      "144: State House\n",
      "145: State House\n",
      "146: State House\n",
      "147: State House\n",
      "148: State House\n",
      "149: State House\n",
      "150: State House\n",
      "151: State House\n",
      "152: State House\n",
      "153: State House\n",
      "154: State House\n",
      "155: State House\n",
      "156: State House\n",
      "157: State House\n",
      "158: State House\n",
      "159: State House\n",
      "160: State House\n",
      "161: State House\n",
      "162: State House\n",
      "163: Proposal\n",
      "164: Proposal\n",
      "165: Proposal\n",
      "166: Secretary of State\n",
      "167: Supreme Court\n"
     ]
    }
   ],
   "source": [
    "for idx, result in enumerate(results):\n",
    "    print(f\"{idx}: {result['office']}\")"
   ]
  },
  {
   "cell_type": "markdown",
   "id": "0fe56a67",
   "metadata": {},
   "source": [
    "Alias"
   ]
  },
  {
   "cell_type": "code",
   "execution_count": 4,
   "id": "4f7946c7",
   "metadata": {},
   "outputs": [],
   "source": [
    "gov22 = results[0]\n",
    "ag22 = results[14]\n",
    "prop1 = results[163]\n",
    "prop2 = results[164]\n",
    "prop3 = results[165]\n",
    "sos22 = results[166]"
   ]
  },
  {
   "cell_type": "code",
   "execution_count": 5,
   "id": "b60cd445",
   "metadata": {
    "scrolled": true
   },
   "outputs": [
    {
     "data": {
      "text/plain": [
       "pandas.core.frame.DataFrame"
      ]
     },
     "execution_count": 5,
     "metadata": {},
     "output_type": "execute_result"
    }
   ],
   "source": [
    "pd.DataFrame"
   ]
  },
  {
   "cell_type": "code",
   "execution_count": 6,
   "id": "b4abecf6",
   "metadata": {},
   "outputs": [],
   "source": [
    "def race_to_df(race, col_prefix):\n",
    "    data = list()\n",
    "    for county in race[\"reporting_units\"]:\n",
    "        if county[\"level\"] == \"state\":\n",
    "            continue\n",
    "\n",
    "        row = dict()\n",
    "        row[\"county\"] = county[\"name\"]\n",
    "        row[f\"{col_prefix}_total\"] = county[\"total_votes\"]\n",
    "        for options in county[\"candidates\"]:\n",
    "            key = f'{col_prefix}_{options[\"nyt_id\"].split(\"-\")[0]}'\n",
    "            row[key] = options[\"votes\"][\"total\"]\n",
    "            key = f'{col_prefix}_pct_{options[\"nyt_id\"].split(\"-\")[0]}'\n",
    "            row[key] = options[\"votes\"][\"total\"] / county[\"total_votes\"]\n",
    "        data.append(row)\n",
    "    return pd.DataFrame(data)"
   ]
  },
  {
   "cell_type": "code",
   "execution_count": 7,
   "id": "45078dd3",
   "metadata": {},
   "outputs": [],
   "source": [
    "df_gov22 = race_to_df(gov22, \"gov_22\")\n",
    "df_sos22 = race_to_df(sos22, \"sos_22\")\n",
    "df_ag22 = race_to_df(ag22, \"ag_22\")"
   ]
  },
  {
   "cell_type": "code",
   "execution_count": 8,
   "id": "bc80dd50",
   "metadata": {},
   "outputs": [],
   "source": [
    "def prop_to_df(race):\n",
    "    data = list()\n",
    "    prefix = f'prop{race[\"seat\"].split(\" \")[0]}_22'\n",
    "    for county in race[\"reporting_units\"]:\n",
    "        if county[\"level\"] == \"state\":\n",
    "            continue\n",
    "        # Props should only be a yes/no vote.\n",
    "        assert len(county[\"candidates\"]) == 2\n",
    "        row = dict()\n",
    "        # County Name\n",
    "        row[\"county\"] = county[\"name\"]\n",
    "        # Total Votes\n",
    "        row[f\"{prefix}_total\"] = county[\"total_votes\"]\n",
    "\n",
    "        for candidate in county[\"candidates\"]:\n",
    "            vote = candidate[\"nyt_id\"]\n",
    "            row[f\"{prefix}_{vote}\"] = candidate[\"votes\"][\"total\"]\n",
    "            row[f\"{prefix}_{vote}_pct\"] = (\n",
    "                row[f\"{prefix}_{vote}\"] / row[f\"{prefix}_total\"]\n",
    "            )\n",
    "\n",
    "        data.append(row)\n",
    "    return pd.DataFrame(data)"
   ]
  },
  {
   "cell_type": "code",
   "execution_count": 9,
   "id": "7a0c35a1",
   "metadata": {},
   "outputs": [],
   "source": [
    "df_prop1 = prop_to_df(prop1)\n",
    "df_prop2 = prop_to_df(prop2)\n",
    "df_prop3 = prop_to_df(prop3)"
   ]
  },
  {
   "cell_type": "code",
   "execution_count": 10,
   "id": "a93279d3",
   "metadata": {},
   "outputs": [],
   "source": [
    "df = df_gov22.merge(df_sos22, on=\"county\")\n",
    "df2 = df.merge(df_ag22, on=\"county\")\n",
    "df3 = df2.merge(df_prop1, on=\"county\")\n",
    "df4 = df3.merge(df_prop2, on=\"county\")\n",
    "df5 = df4.merge(df_prop3, on=\"county\")"
   ]
  },
  {
   "cell_type": "code",
   "execution_count": 11,
   "id": "3c66d03c",
   "metadata": {},
   "outputs": [],
   "source": [
    "df5.to_feather(\"2022.ft\")"
   ]
  }
 ],
 "metadata": {
  "kernelspec": {
   "display_name": "Python 3 (ipykernel)",
   "language": "python",
   "name": "python3"
  },
  "language_info": {
   "codemirror_mode": {
    "name": "ipython",
    "version": 3
   },
   "file_extension": ".py",
   "mimetype": "text/x-python",
   "name": "python",
   "nbconvert_exporter": "python",
   "pygments_lexer": "ipython3",
   "version": "3.8.10"
  }
 },
 "nbformat": 4,
 "nbformat_minor": 5
}
