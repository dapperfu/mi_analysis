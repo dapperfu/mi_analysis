{
 "cells": [
  {
   "cell_type": "code",
   "execution_count": 1,
   "id": "c8ba1043",
   "metadata": {},
   "outputs": [],
   "source": [
    "import json\n",
    "\n",
    "import pandas as pd"
   ]
  },
  {
   "cell_type": "code",
   "execution_count": 2,
   "id": "05a83d83",
   "metadata": {},
   "outputs": [],
   "source": [
    "with open(\"2018.general.json\", \"rb\") as fp:\n",
    "    results = json.load(fp)"
   ]
  },
  {
   "cell_type": "code",
   "execution_count": 3,
   "id": "83565649",
   "metadata": {},
   "outputs": [
    {
     "data": {
      "text/plain": [
       "18"
      ]
     },
     "execution_count": 3,
     "metadata": {},
     "output_type": "execute_result"
    }
   ],
   "source": [
    "len(results)"
   ]
  },
  {
   "cell_type": "code",
   "execution_count": 4,
   "id": "1e0f04be",
   "metadata": {},
   "outputs": [
    {
     "name": "stdout",
     "output_type": "stream",
     "text": [
      "0: U.S. Senate\n",
      "1: U.S. House District 1\n",
      "2: U.S. House District 2\n",
      "3: U.S. House District 3\n",
      "4: U.S. House District 4\n",
      "5: U.S. House District 5\n",
      "6: U.S. House District 6\n",
      "7: U.S. House District 7\n",
      "8: U.S. House District 8\n",
      "9: U.S. House District 9\n",
      "10: U.S. House District 10\n",
      "11: U.S. House District 11\n",
      "12: U.S. House District 12\n",
      "13: U.S. House District 13\n",
      "14: U.S. House District 13\n",
      "15: U.S. House District 14\n",
      "16: Governor\n",
      "17: Attorney General\n"
     ]
    }
   ],
   "source": [
    "for idx, result in enumerate(results):\n",
    "    print(f\"{idx}: {result['race_name']}\")"
   ]
  },
  {
   "cell_type": "code",
   "execution_count": 5,
   "id": "52029955",
   "metadata": {},
   "outputs": [],
   "source": [
    "senate18 = results[0]\n",
    "gov18 = results[16]\n",
    "ag18 = results[17]"
   ]
  },
  {
   "cell_type": "code",
   "execution_count": 6,
   "id": "8a08f38b",
   "metadata": {},
   "outputs": [],
   "source": [
    "def race_to_df(race, col_prefix):\n",
    "    data = list()\n",
    "    for county in race[\"counties\"]:\n",
    "        row = dict()\n",
    "        row[\"county\"] = county[\"name\"]\n",
    "        #\n",
    "        total = 0\n",
    "        for candidate, value in county[\"results\"].items():\n",
    "            total += value\n",
    "            key = f\"{col_prefix}_{candidate}\"\n",
    "            row[key] = value\n",
    "\n",
    "        for candidate, value in county[\"results\"].items():\n",
    "            key = f\"{col_prefix}_pct_{candidate}\"\n",
    "            row[key] = value / total\n",
    "\n",
    "        data.append(row)\n",
    "    return pd.DataFrame(data)"
   ]
  },
  {
   "cell_type": "code",
   "execution_count": 7,
   "id": "ed3202b9",
   "metadata": {},
   "outputs": [],
   "source": [
    "# Convert the races to dataframes\n",
    "df_senate18 = race_to_df(senate18, \"senate_18\")\n",
    "df_gov18 = race_to_df(gov18, \"gov_18\")\n",
    "df_ag18 = race_to_df(ag18, \"ag_18\")"
   ]
  },
  {
   "cell_type": "code",
   "execution_count": 8,
   "id": "aa30268b",
   "metadata": {},
   "outputs": [],
   "source": [
    "# Merge the dataframes\n",
    "df = df_senate18.merge(df_gov18, on=\"county\")\n",
    "df2 = df.merge(df_ag18, on=\"county\")"
   ]
  },
  {
   "cell_type": "code",
   "execution_count": 9,
   "id": "c33fe2fd",
   "metadata": {},
   "outputs": [],
   "source": [
    "# Save to disk\n",
    "df2.to_feather(\"2018.ft\")"
   ]
  }
 ],
 "metadata": {
  "kernelspec": {
   "display_name": "Python 3 (ipykernel)",
   "language": "python",
   "name": "python3"
  },
  "language_info": {
   "codemirror_mode": {
    "name": "ipython",
    "version": 3
   },
   "file_extension": ".py",
   "mimetype": "text/x-python",
   "name": "python",
   "nbconvert_exporter": "python",
   "pygments_lexer": "ipython3",
   "version": "3.8.10"
  }
 },
 "nbformat": 4,
 "nbformat_minor": 5
}
