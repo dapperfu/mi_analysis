{
 "cells": [
  {
   "cell_type": "markdown",
   "id": "7cf3ce77",
   "metadata": {},
   "source": [
    "# Import Data From Sources"
   ]
  },
  {
   "cell_type": "code",
   "execution_count": 1,
   "id": "e78224f9",
   "metadata": {},
   "outputs": [],
   "source": [
    "import json\n",
    "\n",
    "import requests\n",
    "from selenium import webdriver"
   ]
  },
  {
   "cell_type": "markdown",
   "id": "2e0199ef",
   "metadata": {},
   "source": [
    "## 2016 Primary Results\n",
    "\n",
    "https://www.nytimes.com/elections/2016/results/primaries/michigan"
   ]
  },
  {
   "cell_type": "code",
   "execution_count": 2,
   "id": "ff617772",
   "metadata": {},
   "outputs": [],
   "source": [
    "state = \"michigan\"\n",
    "results_url = f\"https://www.nytimes.com/elections/2016/results/primaries/{state}\""
   ]
  },
  {
   "cell_type": "code",
   "execution_count": 3,
   "id": "28d1c83a",
   "metadata": {},
   "outputs": [],
   "source": [
    "# Open the browser get the eln_races results variable.\n",
    "with webdriver.Firefox() as browser:\n",
    "    browser.get(results_url)\n",
    "    eln_races = browser.execute_script(\"return eln_races\")\n",
    "# All\n",
    "with open(\"2016.primary.json\", \"w\") as fp:\n",
    "    json.dump(eln_races, fp)"
   ]
  },
  {
   "cell_type": "markdown",
   "id": "bb58ab27",
   "metadata": {},
   "source": [
    "## 2016 General Results\n",
    "\n",
    "https://www.nytimes.com/elections/2016/results/michigan"
   ]
  },
  {
   "cell_type": "code",
   "execution_count": 9,
   "id": "0b874739",
   "metadata": {},
   "outputs": [],
   "source": [
    "state = \"michigan\"\n",
    "results_url = f\"https://www.nytimes.com/elections/2016/results/{state}\"\n",
    "#\n",
    "with webdriver.Firefox() as browser:\n",
    "    browser.get(results_url)\n",
    "    eln_races = browser.execute_script(\"return eln_races\")\n",
    "results = eln_races[0]"
   ]
  },
  {
   "cell_type": "code",
   "execution_count": 10,
   "id": "b8e71a58",
   "metadata": {},
   "outputs": [],
   "source": [
    "with open(\"2016.general.json\", \"w\") as fp:\n",
    "    json.dump(results, fp)"
   ]
  },
  {
   "cell_type": "markdown",
   "id": "f1a4f7ef",
   "metadata": {},
   "source": [
    "## 2018 General Results"
   ]
  },
  {
   "cell_type": "code",
   "execution_count": 51,
   "id": "b447b38e",
   "metadata": {},
   "outputs": [],
   "source": [
    "results_url = \"https://www.nytimes.com/interactive/2018/11/06/us/elections/results-michigan-elections.html\"\n",
    "\n",
    "with webdriver.Firefox() as browser:\n",
    "    browser.get(results_url)\n",
    "    eln_races = browser.execute_script(\"return eln_races\")\n",
    "\n",
    "with open(\"2018.general.json\", \"w\") as fp:\n",
    "    json.dump(eln_races, fp)"
   ]
  },
  {
   "cell_type": "markdown",
   "id": "232cc9d0",
   "metadata": {},
   "source": [
    "## 2020 Primary Results\n",
    "\n",
    "https://www.nytimes.com/interactive/2020/08/04/us/elections/results-michigan-primary-elections.html"
   ]
  },
  {
   "cell_type": "code",
   "execution_count": 20,
   "id": "4e299e14",
   "metadata": {},
   "outputs": [],
   "source": [
    "results_url = \"https://int.nyt.com/applications/elections/2020/data/api/2020-03-10/michigan/president/democrat.json\""
   ]
  },
  {
   "cell_type": "code",
   "execution_count": 21,
   "id": "42d10a41",
   "metadata": {},
   "outputs": [],
   "source": [
    "response = json.loads(requests.get(results_url).text)\n",
    "results = response[\"data\"][\"races\"][0]\n",
    "# Write to disk\n",
    "with open(\"2020.primary.dem.json\", \"w\") as fp:\n",
    "    json.dump(results, fp)"
   ]
  },
  {
   "cell_type": "markdown",
   "id": "3d396937",
   "metadata": {},
   "source": [
    "## 2020 General Results\n",
    "\n",
    "https://www.nytimes.com/interactive/2020/11/03/us/elections/results-michigan.html"
   ]
  },
  {
   "cell_type": "code",
   "execution_count": 22,
   "id": "03526e63",
   "metadata": {},
   "outputs": [],
   "source": [
    "results_url = \"https://static01.nyt.com/elections-assets/2020/data/api/2020-11-03/state-page/michigan.json\"\n",
    "response = json.loads(requests.get(results_url).text)\n",
    "# All Results\n",
    "results = response[\"data\"][\"races\"]\n",
    "with open(\"2020.general.all.json\", \"w\") as fp:\n",
    "    json.dump(results, fp)\n",
    "# Presidential Results\n",
    "results = response[\"data\"][\"races\"][0]\n",
    "with open(\"2020.general.json\", \"w\") as fp:\n",
    "    json.dump(results, fp)"
   ]
  },
  {
   "cell_type": "markdown",
   "id": "0956ecf3",
   "metadata": {},
   "source": [
    "## 2022 Results"
   ]
  },
  {
   "cell_type": "code",
   "execution_count": 4,
   "id": "e6980512",
   "metadata": {},
   "outputs": [],
   "source": [
    "results_url = \"https://static01.nyt.com/elections-assets/2022/data/2022-11-08/results-michigan.json\"\n",
    "response = json.loads(requests.get(results_url).text)\n",
    "results = response[\"races\"]\n",
    "with open(\"2022.json\", \"w\") as fp:\n",
    "    json.dump(results, fp)"
   ]
  },
  {
   "cell_type": "code",
   "execution_count": null,
   "id": "ca4ef93c",
   "metadata": {},
   "outputs": [],
   "source": []
  }
 ],
 "metadata": {
  "kernelspec": {
   "display_name": "Python 3 (ipykernel)",
   "language": "python",
   "name": "python3"
  },
  "language_info": {
   "codemirror_mode": {
    "name": "ipython",
    "version": 3
   },
   "file_extension": ".py",
   "mimetype": "text/x-python",
   "name": "python",
   "nbconvert_exporter": "python",
   "pygments_lexer": "ipython3",
   "version": "3.8.10"
  }
 },
 "nbformat": 4,
 "nbformat_minor": 5
}
