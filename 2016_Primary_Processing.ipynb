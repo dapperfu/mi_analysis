{
 "cells": [
  {
   "cell_type": "code",
   "execution_count": 3,
   "id": "ff1af07e",
   "metadata": {},
   "outputs": [],
   "source": [
    "import json\n",
    "\n",
    "import pandas as pd"
   ]
  },
  {
   "cell_type": "code",
   "execution_count": 4,
   "id": "cec248c1",
   "metadata": {},
   "outputs": [],
   "source": [
    "with open(\"2016.primary.json\") as fp:\n",
    "    races = json.load(fp)"
   ]
  },
  {
   "cell_type": "code",
   "execution_count": 5,
   "id": "1397655e",
   "metadata": {},
   "outputs": [
    {
     "name": "stdout",
     "output_type": "stream",
     "text": [
      "0:mi-president-primary-republican-2016-03-08\n",
      "1:mi-president-primary-democrat-2016-03-08\n"
     ]
    }
   ],
   "source": [
    "for idx, race in enumerate(races):\n",
    "    print(f'{idx}:{race[\"race_id\"]}')"
   ]
  },
  {
   "cell_type": "code",
   "execution_count": 6,
   "id": "32c728e3",
   "metadata": {
    "scrolled": false
   },
   "outputs": [],
   "source": [
    "rep = races[0]\n",
    "dem = races[1]"
   ]
  },
  {
   "cell_type": "code",
   "execution_count": 7,
   "id": "6c83d9db",
   "metadata": {},
   "outputs": [],
   "source": [
    "data = list()\n",
    "for county in dem[\"counties\"]:\n",
    "    row = dict()\n",
    "    row[\"county\"] = county[\"name\"]\n",
    "    total = 0\n",
    "    for key, value in county[\"results\"].items():\n",
    "        row[f'{key.split(\"-\")[0]}_prim_16'] = value\n",
    "        total += value\n",
    "    row[\"total_dem_prim_2016\"] = total\n",
    "\n",
    "    for key, value in county[\"results\"].items():\n",
    "        row[f'{key.split(\"-\")[0]}_pct_prim_16'] = value / total\n",
    "\n",
    "    data.append(row)"
   ]
  },
  {
   "cell_type": "code",
   "execution_count": 9,
   "id": "b9f463ea",
   "metadata": {},
   "outputs": [],
   "source": [
    "df_dem = pd.DataFrame(data)"
   ]
  },
  {
   "cell_type": "code",
   "execution_count": 10,
   "id": "92df7df8",
   "metadata": {},
   "outputs": [],
   "source": [
    "data = list()\n",
    "for county in rep[\"counties\"]:\n",
    "    row = dict()\n",
    "    row[\"county\"] = county[\"name\"]\n",
    "    total = 0\n",
    "    for key, value in county[\"results\"].items():\n",
    "        total += value\n",
    "        row[f'{key.split(\"-\")[0]}_prim_16'] = value\n",
    "    row[\"total_rep_prim_2016\"] = total\n",
    "\n",
    "    for key, value in county[\"results\"].items():\n",
    "        row[f'{key.split(\"-\")[0]}_pct_prim_16'] = value / total\n",
    "\n",
    "    data.append(row)"
   ]
  },
  {
   "cell_type": "code",
   "execution_count": 11,
   "id": "f8db4aeb",
   "metadata": {},
   "outputs": [],
   "source": [
    "df_rep = pd.DataFrame(data)"
   ]
  },
  {
   "cell_type": "code",
   "execution_count": 12,
   "id": "e04385d8",
   "metadata": {},
   "outputs": [],
   "source": [
    "df = df_rep.merge(df_dem, on=\"county\")"
   ]
  },
  {
   "cell_type": "code",
   "execution_count": 13,
   "id": "78d4f8d3",
   "metadata": {
    "scrolled": true
   },
   "outputs": [],
   "source": [
    "df.to_feather(\"2016.primary.ft\")"
   ]
  }
 ],
 "metadata": {
  "kernelspec": {
   "display_name": "Python 3 (ipykernel)",
   "language": "python",
   "name": "python3"
  },
  "language_info": {
   "codemirror_mode": {
    "name": "ipython",
    "version": 3
   },
   "file_extension": ".py",
   "mimetype": "text/x-python",
   "name": "python",
   "nbconvert_exporter": "python",
   "pygments_lexer": "ipython3",
   "version": "3.8.10"
  }
 },
 "nbformat": 4,
 "nbformat_minor": 5
}
